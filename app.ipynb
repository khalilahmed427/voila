{
 "cells": [
  {
   "cell_type": "code",
   "execution_count": null,
   "id": "f9920567-0d3b-41a0-8fa9-8ab719201196",
   "metadata": {},
   "outputs": [],
   "source": [
    "import roboticstoolbox as rp\n",
    "from ipywidgets import Output,Button\n",
    "out=Output()\n",
    "but=Button(description='Open')\n",
    "display(out,but)\n",
    "def opens(b):\n",
    "    panda = rp.models.Panda()\n",
    "    panda.plot(q=panda.qr)\n",
    "but.on_click(opens)"
   ]
  }
 ],
 "metadata": {
  "kernelspec": {
   "display_name": "Python 3 (ipykernel)",
   "language": "python",
   "name": "python3"
  },
  "language_info": {
   "codemirror_mode": {
    "name": "ipython",
    "version": 3
   },
   "file_extension": ".py",
   "mimetype": "text/x-python",
   "name": "python",
   "nbconvert_exporter": "python",
   "pygments_lexer": "ipython3",
   "version": "3.8.12"
  }
 },
 "nbformat": 4,
 "nbformat_minor": 5
}
